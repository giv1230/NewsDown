{
 "cells": [
  {
   "cell_type": "code",
   "execution_count": 1,
   "metadata": {},
   "outputs": [],
   "source": [
    "import requests\n",
    "import re\n",
    "\n",
    "\n",
    "ticket = [\"AAPL\", \"AMGN\", \"BA\", \"CAT\", \"CRM\", \"CSCO\", \"CVX\", \"DIS\", \"GS\", \"HD\", \"IBM\", \"INTC\", \"JNJ\", \"JPM\", \"KO\", \"MCD\", \"MMM\", \"MRK\", \"MSFT\", \"NKE\", \"PG\", \"TRV\", \"UNH\", \"V\", \"VZ\", \"WBA\", \"WMT\"]\n",
    "\n",
    "month = [1, 2, 3, 4, 5, 6, 7, 8, 9, 10, 11, 12]\n",
    "\n",
    "year = [1, 2]\n",
    "\n",
    "for t in ticket:\n",
    "    for y in year:\n",
    "        for m in month:\n",
    "            url = 'https://www.alphavantage.co/query?function=TIME_SERIES_INTRADAY_EXTENDED&symbol={0}&interval=1min&slice=year{1}month{2}&apikey=DZ01GO4BJT8NSW4Z'\n",
    "            response = requests.get(url.format(t, y, m))\n",
    "            wfile = response.text\n",
    "            if y == 2 or m > 1:\n",
    "                wfile = re.sub(\"time,open,high,low,close,volume\\r\\n\", \"\", wfile)\n",
    "            filename = r\"D:\\test\\{}.csv\"\n",
    "            filename = filename.format(t)\n",
    "            wfile = re.sub(\"\\r\", \"\", wfile)\n",
    "            open(filename, 'at').write(wfile)\n"
   ]
  },
  {
   "cell_type": "code",
   "execution_count": null,
   "metadata": {},
   "outputs": [],
   "source": []
  }
 ],
 "metadata": {
  "kernelspec": {
   "display_name": "Python 3",
   "language": "python",
   "name": "python3"
  },
  "language_info": {
   "codemirror_mode": {
    "name": "ipython",
    "version": 3
   },
   "file_extension": ".py",
   "mimetype": "text/x-python",
   "name": "python",
   "nbconvert_exporter": "python",
   "pygments_lexer": "ipython3",
   "version": "3.8.3"
  }
 },
 "nbformat": 4,
 "nbformat_minor": 4
}
